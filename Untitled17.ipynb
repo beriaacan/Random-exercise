{
  "nbformat": 4,
  "nbformat_minor": 0,
  "metadata": {
    "colab": {
      "provenance": [],
      "authorship_tag": "ABX9TyPrNzVtBIPnsHdv93ed6vtG",
      "include_colab_link": true
    },
    "kernelspec": {
      "name": "python3",
      "display_name": "Python 3"
    },
    "language_info": {
      "name": "python"
    }
  },
  "cells": [
    {
      "cell_type": "markdown",
      "metadata": {
        "id": "view-in-github",
        "colab_type": "text"
      },
      "source": [
        "<a href=\"https://colab.research.google.com/github/beriaacan/Random-exercise/blob/main/Untitled17.ipynb\" target=\"_parent\"><img src=\"https://colab.research.google.com/assets/colab-badge.svg\" alt=\"Open In Colab\"/></a>"
      ]
    },
    {
      "cell_type": "code",
      "execution_count": 1,
      "metadata": {
        "colab": {
          "base_uri": "https://localhost:8080/"
        },
        "id": "l7pv_vFx9N42",
        "outputId": "cefbc701-c83c-41bd-c229-d39355760cb1"
      },
      "outputs": [
        {
          "output_type": "stream",
          "name": "stdout",
          "text": [
            "Matrix R^6:\n",
            "[[1.81760903 1.81760605]\n",
            " [1.81760605 1.81760903]]\n",
            "\n",
            "Vector w:\n",
            "[13.81382745 13.81380714]\n"
          ]
        }
      ],
      "source": [
        "import numpy as np\n",
        "\n",
        "# Define the matrix R\n",
        "R = np.array([[0.56, 0.68], [0.68, 0.56]])\n",
        "\n",
        "# Define the vector v\n",
        "v = np.array([7.2, 0.4])\n",
        "\n",
        "# Calculate R^6\n",
        "R6 = np.linalg.matrix_power(R, 6)\n",
        "\n",
        "# Calculate w = R^6 * v\n",
        "w = np.dot(R6, v)\n",
        "\n",
        "# Print the result\n",
        "print(\"Matrix R^6:\")\n",
        "print(R6)\n",
        "\n",
        "print(\"\\nVector w:\")\n",
        "print(w)\n"
      ]
    },
    {
      "cell_type": "code",
      "source": [
        "import numpy as np\n",
        "\n",
        "# Given rotation matrix R\n",
        "theta = 5.2  # in radians\n",
        "R = np.array([[np.cos(theta), 0, np.sin(theta)],\n",
        "              [0, 1, 0],\n",
        "              [-np.sin(theta), 0, np.cos(theta)]])\n",
        "\n",
        "# Given vector a\n",
        "a = np.array([2.6, 7.5, 8.2])\n",
        "\n",
        "# Calculate b = Ra\n",
        "b = np.dot(R, a)\n",
        "\n",
        "# Print the result\n",
        "print(\"Vector b:\")\n",
        "print(b)\n",
        "\n",
        "# Print the z component of b\n",
        "print(\"\\nZ component of vector b:\")\n",
        "print(b[2])\n"
      ],
      "metadata": {
        "id": "ViBwo3RO-Bi3",
        "outputId": "c2775f63-8648-40fe-d38b-636e0077ab2c",
        "colab": {
          "base_uri": "https://localhost:8080/"
        }
      },
      "execution_count": 2,
      "outputs": [
        {
          "output_type": "stream",
          "name": "stdout",
          "text": [
            "Vector b:\n",
            "[-6.02618483  7.5         6.13881881]\n",
            "\n",
            "Z component of vector b:\n",
            "6.13881880953549\n"
          ]
        }
      ]
    }
  ]
}