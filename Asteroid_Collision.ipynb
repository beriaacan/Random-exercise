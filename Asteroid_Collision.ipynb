{
  "nbformat": 4,
  "nbformat_minor": 0,
  "metadata": {
    "colab": {
      "provenance": [],
      "authorship_tag": "ABX9TyPzJ19V2LTbnD1z4qBTm6zE",
      "include_colab_link": true
    },
    "kernelspec": {
      "name": "python3",
      "display_name": "Python 3"
    },
    "language_info": {
      "name": "python"
    }
  },
  "cells": [
    {
      "cell_type": "markdown",
      "metadata": {
        "id": "view-in-github",
        "colab_type": "text"
      },
      "source": [
        "<a href=\"https://colab.research.google.com/github/beriaacan/Random-exercise/blob/main/Asteroid_Collision.ipynb\" target=\"_parent\"><img src=\"https://colab.research.google.com/assets/colab-badge.svg\" alt=\"Open In Colab\"/></a>"
      ]
    },
    {
      "cell_type": "markdown",
      "source": [
        "# Task\n",
        "We are given an array ***asteroids*** of integers representing asteroids in a row.\n",
        "\n",
        "For each asteroid, the absolute value represents its size, and the sign represents its direction (positive meaning right, negative meaning left). Each asteroid moves at the same speed.\n",
        "\n",
        "Find out the state of the asteroids after all collisions. If two asteroids meet, the smaller one will explode. If both are the same size, both will explode. Two asteroids moving in the same direction will never meet."
      ],
      "metadata": {
        "id": "H8N3nh0kyCHy"
      }
    },
    {
      "cell_type": "markdown",
      "source": [
        "# Example\n",
        "(1) Input: asteroids = [5,10,-5]\n",
        "\n",
        "Output: [5,10]\n",
        "\n",
        "Explanation: The 10 and -5 collide resulting in 10. The 5 and 10 never collide.\n",
        "\n",
        "(2) Input: asteroids = [8,-8]\n",
        "\n",
        "Output: [ ]\n",
        "\n",
        "Explanation: The 8 and -8 collide exploding each other.\n",
        "\n",
        "(3) Input: asteroids = [10,2,-5]\n",
        "\n",
        "Output: [10]\n",
        "\n",
        "Explanation: The 2 and -5 collide resulting in -5. The 10 and -5 collide resulting in 10.\n",
        "\n",
        "\n"
      ],
      "metadata": {
        "id": "2Amd6ZA5yOdq"
      }
    },
    {
      "cell_type": "code",
      "execution_count": 16,
      "metadata": {
        "id": "BsV2_OeRx-vn"
      },
      "outputs": [],
      "source": [
        "class Solution(object):\n",
        "    def asteroidCollision(self, asteroids):\n",
        "        \"\"\"\n",
        "        :type asteroids: List[int]\n",
        "        :rtype: List[int]\n",
        "        \"\"\"\n",
        "        list_ = []\n",
        "        for i in asteroids: #i=astreoid\n",
        "            #checking directions\n",
        "            if i >= 0 or not list_: #right side or empty\n",
        "                list_.append(i)\n",
        "            else: #left side\n",
        "                while list_ and list_[-1] > 0: #important one is last astreoid\n",
        "                    # we check if it can destroy the current left-moving asteroid.\n",
        "                    if list_[-1] < abs(i):\n",
        "                        list_.pop()  # right-moving asteroid gets destroyed.\n",
        "                    elif list_[-1] == abs(i):\n",
        "                        list_.pop()  # both asteroids get destroyed.\n",
        "                        break\n",
        "                    else:\n",
        "                        # current left-moving asteroid gets destroyed by the right-moving asteroid in the list\n",
        "                        break\n",
        "                else:\n",
        "                    # if the while loop completes without a break, it means that left-moving asteroid should be added to the list\n",
        "                    list_.append(i)\n",
        "        return list_\n",
        "\n"
      ]
    },
    {
      "cell_type": "code",
      "source": [
        "asteroids = [5, 10, -5]\n",
        "sol = Solution()\n",
        "result = sol.asteroidCollision(asteroids)\n",
        "print(result)  # Output: [5, 10]"
      ],
      "metadata": {
        "colab": {
          "base_uri": "https://localhost:8080/"
        },
        "id": "hIxTi-QW2gvT",
        "outputId": "ecd0ee88-9061-4c26-fa3d-71729d985958"
      },
      "execution_count": 17,
      "outputs": [
        {
          "output_type": "stream",
          "name": "stdout",
          "text": [
            "[5, 10]\n"
          ]
        }
      ]
    },
    {
      "cell_type": "code",
      "source": [
        "asteroids = [8, -8]\n",
        "sol = Solution()\n",
        "result = sol.asteroidCollision(asteroids)\n",
        "print(result)  # Output: []\n",
        "\n"
      ],
      "metadata": {
        "colab": {
          "base_uri": "https://localhost:8080/"
        },
        "id": "3TvfSml5-Io-",
        "outputId": "e308018b-6c02-4bb7-e76f-d5493530ae14"
      },
      "execution_count": 18,
      "outputs": [
        {
          "output_type": "stream",
          "name": "stdout",
          "text": [
            "[]\n"
          ]
        }
      ]
    },
    {
      "cell_type": "code",
      "source": [
        "asteroids = [10, 2, -5]\n",
        "sol = Solution()\n",
        "result = sol.asteroidCollision(asteroids)\n",
        "print(result)  # Output: [10]\n",
        "\n"
      ],
      "metadata": {
        "colab": {
          "base_uri": "https://localhost:8080/"
        },
        "id": "LiDUwTSX-NNR",
        "outputId": "29c9af1e-c853-4f82-b635-2d52f7da6543"
      },
      "execution_count": 19,
      "outputs": [
        {
          "output_type": "stream",
          "name": "stdout",
          "text": [
            "[10]\n"
          ]
        }
      ]
    },
    {
      "cell_type": "code",
      "source": [
        "asteroids = [-2, -1, 1, 2]\n",
        "sol = Solution()\n",
        "result = sol.asteroidCollision(asteroids)\n",
        "print(result)  # Output: [-2, -1, 1, 2]"
      ],
      "metadata": {
        "colab": {
          "base_uri": "https://localhost:8080/"
        },
        "id": "IHTSP0c8-ObN",
        "outputId": "f69c3d90-4123-472d-ecfa-e018ce68f88f"
      },
      "execution_count": 20,
      "outputs": [
        {
          "output_type": "stream",
          "name": "stdout",
          "text": [
            "[-2, -1, 1, 2]\n"
          ]
        }
      ]
    }
  ]
}