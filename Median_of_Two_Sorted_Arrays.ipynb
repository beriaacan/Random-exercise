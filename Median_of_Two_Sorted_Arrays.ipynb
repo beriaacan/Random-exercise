{
  "nbformat": 4,
  "nbformat_minor": 0,
  "metadata": {
    "colab": {
      "provenance": [],
      "authorship_tag": "ABX9TyMckXWZYC/+faqKDzpisVOn",
      "include_colab_link": true
    },
    "kernelspec": {
      "name": "python3",
      "display_name": "Python 3"
    },
    "language_info": {
      "name": "python"
    }
  },
  "cells": [
    {
      "cell_type": "markdown",
      "metadata": {
        "id": "view-in-github",
        "colab_type": "text"
      },
      "source": [
        "<a href=\"https://colab.research.google.com/github/beriaacan/Random-exercise/blob/main/Median_of_Two_Sorted_Arrays.ipynb\" target=\"_parent\"><img src=\"https://colab.research.google.com/assets/colab-badge.svg\" alt=\"Open In Colab\"/></a>"
      ]
    },
    {
      "cell_type": "markdown",
      "source": [
        "# Task\n",
        "Given two sorted arrays nums1 and nums2 of size m and n respectively, return the median of the two sorted arrays.\n",
        "\n",
        "The overall run time complexity should be O(log (m+n))."
      ],
      "metadata": {
        "id": "i36WzKdDIag4"
      }
    },
    {
      "cell_type": "markdown",
      "source": [
        "# Example\n",
        "(1) Input: nums1 = [1,3], nums2 = [2]\n",
        "\n",
        "Output: 2.00000\n",
        "\n",
        "Explanation: merged array = [1,2,3] and median is 2.\n",
        "\n",
        "(2) Input: nums1 = [1,2], nums2 = [3,4]\n",
        "\n",
        "Output: 2.50000\n",
        "\n",
        "Explanation: merged array = [1,2,3,4] and median is (2 + 3) / 2 = 2.5."
      ],
      "metadata": {
        "id": "A1tZx5NwIkGh"
      }
    },
    {
      "cell_type": "code",
      "execution_count": 3,
      "metadata": {
        "id": "0sDY9719HOt3"
      },
      "outputs": [],
      "source": [
        "class Solution(object):\n",
        "    def findMedianSortedArrays(self, nums1, nums2):\n",
        "        \"\"\"\n",
        "        :type nums1: List[int]\n",
        "        :type nums2: List[int]\n",
        "        :rtype: float\n",
        "        \"\"\"\n",
        "        list_ = nums1 + nums2\n",
        "        list_.sort()\n",
        "        # Calculate the median of the modified list\n",
        "        n = len(list_)\n",
        "        if n % 2 == 0: #even\n",
        "            mid_right = n // 2\n",
        "            mid_left = mid_right - 1\n",
        "            median = (list_[mid_left] + list_[mid_right]) / 2.0\n",
        "        else:\n",
        "            mid = n// 2\n",
        "            median = list_[mid]\n",
        "\n",
        "        return median"
      ]
    },
    {
      "cell_type": "code",
      "source": [
        "solution = Solution()\n",
        "nums1 = [1, 3]\n",
        "nums2 = [2]\n",
        "result = solution.findMedianSortedArrays(nums1, nums2)\n",
        "print(\"Median:\", result)"
      ],
      "metadata": {
        "colab": {
          "base_uri": "https://localhost:8080/"
        },
        "id": "p3GHO9MpQEl0",
        "outputId": "ec9decec-d86f-43b7-e47d-62a379412bdd"
      },
      "execution_count": 4,
      "outputs": [
        {
          "output_type": "stream",
          "name": "stdout",
          "text": [
            "Median: 2\n"
          ]
        }
      ]
    }
  ]
}