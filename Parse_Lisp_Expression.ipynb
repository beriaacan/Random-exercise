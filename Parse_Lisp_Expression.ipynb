{
  "nbformat": 4,
  "nbformat_minor": 0,
  "metadata": {
    "colab": {
      "provenance": [],
      "authorship_tag": "ABX9TyPFyfeuTrHhWN5XaBAH8bDK",
      "include_colab_link": true
    },
    "kernelspec": {
      "name": "python3",
      "display_name": "Python 3"
    },
    "language_info": {
      "name": "python"
    }
  },
  "cells": [
    {
      "cell_type": "markdown",
      "metadata": {
        "id": "view-in-github",
        "colab_type": "text"
      },
      "source": [
        "<a href=\"https://colab.research.google.com/github/beriaacan/Random-exercise/blob/main/Parse_Lisp_Expression.ipynb\" target=\"_parent\"><img src=\"https://colab.research.google.com/assets/colab-badge.svg\" alt=\"Open In Colab\"/></a>"
      ]
    },
    {
      "cell_type": "markdown",
      "source": [
        "# Task\n",
        "You are given a string expression representing a Lisp-like expression to return the integer value of.\n",
        "\n",
        "The syntax for these expressions is given as follows.\n",
        "\n",
        "An expression is either an integer, let expression, add expression, mult expression, or an assigned variable. Expressions always evaluate to a single integer.\n",
        "(An integer could be positive or negative.)\n",
        "\n",
        "A let expression takes the form \"(let v1 e1 v2 e2 ... vn en expr)\", where let is always the string \"let\", then there are one or more pairs of alternating variables and expressions, meaning that the first variable v1 is assigned the value of the expression e1, the second variable v2 is assigned the value of the expression e2, and so on sequentially; and then the value of this let expression is the value of the expression expr.\n",
        "\n",
        "An add expression takes the form \"(add e1 e2)\" where add is always the string \"add\", there are always two expressions e1, e2 and the result is the addition of the evaluation of e1 and the evaluation of e2.\n",
        "\n",
        "A mult expression takes the form \"(mult e1 e2)\" where mult is always the string \"mult\", there are always two expressions e1, e2 and the result is the multiplication of the evaluation of e1 and the evaluation of e2.\n",
        "\n",
        "For this question, we will use a smaller subset of variable names. A variable starts with a lowercase letter, then zero or more lowercase letters or digits. Additionally, for your convenience, the names \"add\", \"let\", and \"mult\" are protected and will never be used as variable names.\n",
        "\n",
        "Finally, there is the concept of scope. When an expression of a variable name is evaluated, within the context of that evaluation, the innermost scope (in terms of parentheses) is checked first for the value of that variable, and then outer scopes are checked sequentially. It is guaranteed that every expression is legal. Please see the examples for more details on the scope."
      ],
      "metadata": {
        "id": "VOkg-mpuKJDJ"
      }
    },
    {
      "cell_type": "markdown",
      "source": [
        "# Example\n",
        "\n",
        "**(1)** Input: expression = \"(let x 2 (mult x (let x 3 y 4 (add x y))))\"\n",
        "\n",
        "Output: 14\n",
        "\n",
        "Explanation: In the expression (add x y), when checking for the value of the variable x,\n",
        "\n",
        "we check from the innermost scope to the outermost in the context of the variable we are trying to evaluate.\n",
        "\n",
        "Since x = 3 is found first, the value of x is 3.\n",
        "\n",
        "\n",
        "*   Step 1: The (let x 2 ...) expression assigns the value \"2\" to variable \"x.\"\n",
        "*   Step 2: The (mult x ...) expression uses the value of \"x\" (which is 2) to multiply it with the inner expression (let x 3 y 4 (add x y)).\n",
        "*   Evaluate the inner expression:\n",
        "    * The inner (let x 3 y 4 ...) expression assigns \"3\" to variable \"x\" and \"4\" to variable \"y.\"\n",
        "    * Then, it evaluates the (add x y) expression, which results in 7 since \"x\" is 3 and \"y\" is 4.\n",
        "\n",
        "* The outer expression multiplies the value of \"x\" (which is 2) with the inner expression's result: 2 * 7 = 14.\n",
        "\n",
        "---------------------------\n",
        "\n",
        "\n",
        "**(2)** Input: expression = \"(let x 3 x 2 x)\"\n",
        "\n",
        "Output: 2\n",
        "\n",
        "Explanation: Assignment in let statements is processed sequentially.\n",
        "\n",
        "* Step 1: The (let x 3 ...) expression assigns the value \"3\" to variable \"x.\"\n",
        "\n",
        "* Step 2: The (x 2 ...) expression returns 2, using the value of \"x\" (which is 3).\n",
        "\n",
        "* As a result, the value of variable \"x\" becomes 2.\n",
        "\n",
        "\n",
        "---------------------------\n",
        "\n",
        "\n",
        "**(3)** Input: expression = \"(let x 1 y 2 x (add x y) (add x y))\"\n",
        "\n",
        "Output: 5\n",
        "\n",
        "Explanation: The first (add x y) evaluates as 3, and is assigned to x.\n",
        "\n",
        "The second (add x y) evaluates as 3+2 = 5.\n",
        "\n",
        "* Step 1: The (let x 1 y 2 ...) expression assigns \"1\" to variable \"x\" and \"2\" to variable \"y.\"\n",
        "* Step 2: The (add x y) expression evaluates to 3, where \"x\" is 1 and \"y\" is 2.\n",
        "* Step 3: The second (add x y) expression evaluates to 5, where \"x\" is now 3 (previously assigned value), and \"y\" is still 2.\n",
        "* As a result, the value of variable \"x\" becomes 5.\n"
      ],
      "metadata": {
        "id": "CpPv6ckbKsmb"
      }
    },
    {
      "cell_type": "code",
      "source": [],
      "metadata": {
        "id": "VnVK1gWCO7fL"
      },
      "execution_count": null,
      "outputs": []
    },
    {
      "cell_type": "code",
      "execution_count": null,
      "metadata": {
        "id": "Bz-ZCCF_KEwq"
      },
      "outputs": [],
      "source": [
        "class Solution(object):\n",
        "    def evaluate(self, expression):\n",
        "        \"\"\"\n",
        "        :type expression: str\n",
        "        :rtype: int\n",
        "        \"\"\""
      ]
    }
  ]
}