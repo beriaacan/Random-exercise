{
  "nbformat": 4,
  "nbformat_minor": 0,
  "metadata": {
    "colab": {
      "provenance": []
    },
    "kernelspec": {
      "name": "python3",
      "display_name": "Python 3"
    },
    "language_info": {
      "name": "python"
    }
  },
  "cells": [
    {
      "cell_type": "markdown",
      "source": [
        "# Task\n",
        "Given an array of intervals intervals where intervals[i] = [starti, endi], return the minimum number of intervals you need to remove to make the rest of the intervals non-overlapping."
      ],
      "metadata": {
        "id": "TEe1xmzv3oI3"
      }
    },
    {
      "cell_type": "markdown",
      "source": [
        "# Example\n",
        "(1) Input: intervals = [[1,2],[2,3],[3,4],[1,3]]\n",
        "\n",
        "Output: 1\n",
        "\n",
        "Explanation: [1,3] can be removed and the rest of the intervals are non-overlapping.\n",
        "\n",
        "(2) Input: intervals = [[1,2],[1,2],[1,2]]\n",
        "\n",
        "Output: 2\n",
        "\n",
        "Explanation: You need to remove two [1,2] to make the rest of the intervals non-overlapping.\n",
        "\n",
        "(3) Input: intervals = [[1,2],[2,3]]\n",
        "\n",
        "Output: 0\n",
        "\n",
        "Explanation: You don't need to remove any of the intervals since they're already non-overlapping.\n"
      ],
      "metadata": {
        "id": "JBoJmb9m3zg5"
      }
    },
    {
      "cell_type": "code",
      "source": [
        "from typing import List\n",
        "\n",
        "class Solution:\n",
        "    def eraseOverlapIntervals(self, intervals: List[List[int]]) -> int:\n",
        "        if not intervals:\n",
        "            return 0\n",
        "\n",
        "        intervals.sort(key=lambda x: x[1])\n",
        "        count = 1\n",
        "        end = intervals[0][1]\n",
        "\n",
        "        for i in range(1, len(intervals)):\n",
        "            if intervals[i][0] >= end:\n",
        "                count += 1\n",
        "                end = intervals[i][1]\n",
        "\n",
        "        return len(intervals) - count"
      ],
      "metadata": {
        "id": "9Rm7FRvE4nMP"
      },
      "execution_count": 1,
      "outputs": []
    },
    {
      "cell_type": "code",
      "source": [
        "intervals = [[1, 2], [2, 3], [3, 4], [1, 3]]\n",
        "solution = Solution()\n",
        "result = solution.eraseOverlapIntervals(intervals)\n",
        "print(\"Minimum number of intervals to remove:\", result)\n"
      ],
      "metadata": {
        "colab": {
          "base_uri": "https://localhost:8080/"
        },
        "id": "de4_Qg-e4zzS",
        "outputId": "ae3fd8e4-28c8-4013-f351-44600c056b06"
      },
      "execution_count": 2,
      "outputs": [
        {
          "output_type": "stream",
          "name": "stdout",
          "text": [
            "Minimum number of intervals to remove: 1\n"
          ]
        }
      ]
    },
    {
      "cell_type": "code",
      "source": [
        "intervals = [[1,2],[1,2],[1,2]]\n",
        "solution = Solution()\n",
        "result = solution.eraseOverlapIntervals(intervals)\n",
        "print(\"Minimum number of intervals to remove:\", result)"
      ],
      "metadata": {
        "colab": {
          "base_uri": "https://localhost:8080/"
        },
        "id": "-HyDMSw55N3e",
        "outputId": "0bb2c3b8-9ef1-44b6-dc78-23cf9b16cfb0"
      },
      "execution_count": 3,
      "outputs": [
        {
          "output_type": "stream",
          "name": "stdout",
          "text": [
            "Minimum number of intervals to remove: 2\n"
          ]
        }
      ]
    },
    {
      "cell_type": "code",
      "source": [
        "intervals = [[1,2],[2,3]]\n",
        "solution = Solution()\n",
        "result = solution.eraseOverlapIntervals(intervals)\n",
        "print(\"Minimum number of intervals to remove:\", result)"
      ],
      "metadata": {
        "colab": {
          "base_uri": "https://localhost:8080/"
        },
        "id": "ebw04A_O5OMi",
        "outputId": "ad633971-a555-434b-8e4e-aa8373e44152"
      },
      "execution_count": 4,
      "outputs": [
        {
          "output_type": "stream",
          "name": "stdout",
          "text": [
            "Minimum number of intervals to remove: 0\n"
          ]
        }
      ]
    }
  ]
}